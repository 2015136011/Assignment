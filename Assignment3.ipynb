{
 "cells": [
  {
   "cell_type": "markdown",
   "metadata": {},
   "source": [
    "### 1.L=[1, 2, 3, 4, 5]일 때 다음 각 문장을 수행한 후의 결과를 보고 납득할 만한 이유를 설명하시오."
   ]
  },
  {
   "cell_type": "code",
   "execution_count": 2,
   "metadata": {},
   "outputs": [
    {
     "name": "stdout",
     "output_type": "stream",
     "text": [
      "[1, 100, 4, 5]\n"
     ]
    }
   ],
   "source": [
    "L=[1, 2, 3, 4, 5]\n",
    "L[1:3] = [100]\n",
    "print(L)"
   ]
  },
  {
   "cell_type": "markdown",
   "metadata": {},
   "source": [
    "서로 다른 크기에 대한 슬라이스 치환이 가능하여 L[1:3]의 값들이 100으로 치환이 되었다."
   ]
  },
  {
   "cell_type": "code",
   "execution_count": 14,
   "metadata": {},
   "outputs": [
    {
     "name": "stdout",
     "output_type": "stream",
     "text": [
      "[1, 100, 4, 5]\n"
     ]
    }
   ],
   "source": [
    "L=[1, 2, 3, 4, 5]\n",
    "L[1:3] = [(100)]\n",
    "print(L)"
   ]
  },
  {
   "cell_type": "markdown",
   "metadata": {},
   "source": [
    "위와 동일하게 100과 (100)은 같은 취급을 하므로 서로 다른 크기에 대한 슬라이스 치환이 가능하여 L[1:3]의 값들이 (100)으로 치환이 되었다."
   ]
  },
  {
   "cell_type": "code",
   "execution_count": 16,
   "metadata": {},
   "outputs": [
    {
     "ename": "TypeError",
     "evalue": "can only assign an iterable",
     "output_type": "error",
     "traceback": [
      "\u001b[1;31m---------------------------------------------------------------------------\u001b[0m",
      "\u001b[1;31mTypeError\u001b[0m                                 Traceback (most recent call last)",
      "\u001b[1;32m<ipython-input-16-b14b6d5e9def>\u001b[0m in \u001b[0;36m<module>\u001b[1;34m()\u001b[0m\n\u001b[0;32m      1\u001b[0m \u001b[0mL\u001b[0m\u001b[1;33m=\u001b[0m\u001b[1;33m[\u001b[0m\u001b[1;36m1\u001b[0m\u001b[1;33m,\u001b[0m \u001b[1;36m2\u001b[0m\u001b[1;33m,\u001b[0m \u001b[1;36m3\u001b[0m\u001b[1;33m,\u001b[0m \u001b[1;36m4\u001b[0m\u001b[1;33m,\u001b[0m \u001b[1;36m5\u001b[0m\u001b[1;33m]\u001b[0m\u001b[1;33m\u001b[0m\u001b[0m\n\u001b[1;32m----> 2\u001b[1;33m \u001b[0mL\u001b[0m\u001b[1;33m[\u001b[0m\u001b[1;36m1\u001b[0m\u001b[1;33m:\u001b[0m\u001b[1;36m3\u001b[0m\u001b[1;33m]\u001b[0m \u001b[1;33m=\u001b[0m \u001b[1;36m100\u001b[0m\u001b[1;33m\u001b[0m\u001b[0m\n\u001b[0m\u001b[0;32m      3\u001b[0m \u001b[0mprint\u001b[0m\u001b[1;33m(\u001b[0m\u001b[0mL\u001b[0m\u001b[1;33m)\u001b[0m\u001b[1;33m\u001b[0m\u001b[0m\n",
      "\u001b[1;31mTypeError\u001b[0m: can only assign an iterable"
     ]
    }
   ],
   "source": [
    "L=[1, 2, 3, 4, 5]\n",
    "L[1:3] = 100\n",
    "print(L)"
   ]
  },
  {
   "cell_type": "markdown",
   "metadata": {},
   "source": [
    "연속된 범위에서는 정수를 못 넣으며 리스트나 튜플을 넣어줘야한다."
   ]
  },
  {
   "cell_type": "code",
   "execution_count": 8,
   "metadata": {},
   "outputs": [
    {
     "ename": "TypeError",
     "evalue": "can only assign an iterable",
     "output_type": "error",
     "traceback": [
      "\u001b[1;31m---------------------------------------------------------------------------\u001b[0m",
      "\u001b[1;31mTypeError\u001b[0m                                 Traceback (most recent call last)",
      "\u001b[1;32m<ipython-input-8-9714c1575170>\u001b[0m in \u001b[0;36m<module>\u001b[1;34m()\u001b[0m\n\u001b[0;32m      1\u001b[0m \u001b[0mL\u001b[0m\u001b[1;33m=\u001b[0m\u001b[1;33m[\u001b[0m\u001b[1;36m1\u001b[0m\u001b[1;33m,\u001b[0m \u001b[1;36m2\u001b[0m\u001b[1;33m,\u001b[0m \u001b[1;36m3\u001b[0m\u001b[1;33m,\u001b[0m \u001b[1;36m4\u001b[0m\u001b[1;33m,\u001b[0m \u001b[1;36m5\u001b[0m\u001b[1;33m]\u001b[0m\u001b[1;33m\u001b[0m\u001b[0m\n\u001b[1;32m----> 2\u001b[1;33m \u001b[0mL\u001b[0m\u001b[1;33m[\u001b[0m\u001b[1;36m1\u001b[0m\u001b[1;33m:\u001b[0m\u001b[1;36m3\u001b[0m\u001b[1;33m]\u001b[0m \u001b[1;33m=\u001b[0m \u001b[1;33m(\u001b[0m\u001b[1;36m100\u001b[0m\u001b[1;33m)\u001b[0m\u001b[1;33m\u001b[0m\u001b[0m\n\u001b[0m\u001b[0;32m      3\u001b[0m \u001b[0mprint\u001b[0m\u001b[1;33m(\u001b[0m\u001b[0mL\u001b[0m\u001b[1;33m)\u001b[0m\u001b[1;33m\u001b[0m\u001b[0m\n",
      "\u001b[1;31mTypeError\u001b[0m: can only assign an iterable"
     ]
    }
   ],
   "source": [
    "L=[1, 2, 3, 4, 5]\n",
    "L[1:3] = (100)\n",
    "print(L)"
   ]
  },
  {
   "cell_type": "markdown",
   "metadata": {},
   "source": [
    "위와 동일하게 100과 (100)은 같은 취급을 하므로 연속된 범위에서는 정수를 못 넣으며 리스트나 튜플을 넣어줘야한다."
   ]
  },
  {
   "cell_type": "code",
   "execution_count": 18,
   "metadata": {},
   "outputs": [
    {
     "name": "stdout",
     "output_type": "stream",
     "text": [
      "[1, 100, 101, 102, 4, 5]\n"
     ]
    }
   ],
   "source": [
    "L=[1, 2, 3, 4, 5]\n",
    "L[1:3] = (100, 101, 102)\n",
    "print(L)"
   ]
  },
  {
   "cell_type": "markdown",
   "metadata": {},
   "source": [
    "연속된 범위에 튜플은 넣을 수 있으므로 L[1:3]의 범위를 100,101,102로 치환하여준다."
   ]
  },
  {
   "cell_type": "code",
   "execution_count": 19,
   "metadata": {},
   "outputs": [
    {
     "name": "stdout",
     "output_type": "stream",
     "text": [
      "[1, 100, 101, 102, 4, 5]\n"
     ]
    }
   ],
   "source": [
    "L=[1, 2, 3, 4, 5]\n",
    "L[1:3] = [100, 101, 102]\n",
    "print(L)"
   ]
  },
  {
   "cell_type": "markdown",
   "metadata": {},
   "source": [
    "연속된 범위에서 서로 다른 크기여도 리스트를 넣을 수 있으므로 위와 같이 L[1:3]의 범위에 100,101,102로 치환하여 준다."
   ]
  },
  {
   "cell_type": "code",
   "execution_count": 21,
   "metadata": {},
   "outputs": [
    {
     "name": "stdout",
     "output_type": "stream",
     "text": [
      "[1, (100, 101, 102), 4, 5]\n"
     ]
    }
   ],
   "source": [
    "L=[1, 2, 3, 4, 5]\n",
    "L[1:3] = [(100, 101, 102)]\n",
    "print(L)"
   ]
  },
  {
   "cell_type": "markdown",
   "metadata": {},
   "source": [
    "(100,101,102)인 튜플 하나를 원소로 가지는 리스트에 넣어서 L[1:3]에 치환하는 것이므로 위와 같이 튜플로 묶인 채로 출력이 된다."
   ]
  },
  {
   "cell_type": "code",
   "execution_count": 23,
   "metadata": {},
   "outputs": [
    {
     "name": "stdout",
     "output_type": "stream",
     "text": [
      "[1, [100, 101, 102], 4, 5]\n"
     ]
    }
   ],
   "source": [
    "L=[1, 2, 3, 4, 5]\n",
    "L[1:3] = [[100, 101, 102]]\n",
    "print(L)"
   ]
  },
  {
   "cell_type": "markdown",
   "metadata": {},
   "source": [
    "[100,101,102]인 리스트 하나를 원소로 가지는 리스트에 넣어서 L[1:3]에 치환하는 것이므로 위와 같이 리스트로 묶인 채로 출력이 된다."
   ]
  },
  {
   "cell_type": "markdown",
   "metadata": {},
   "source": [
    "### 2.문자열 S = 'Hello World and Python'에 대해 다음 요구사항에 대한 Python 코드를 제시하시오."
   ]
  },
  {
   "cell_type": "markdown",
   "metadata": {},
   "source": [
    "#### 1) 단어의 순서가 역순으로 되어진 문자열 ('Python and World Hello')을 만들고\n",
    "#### 2) 1)의 결과 문자열에 대해 메소드 split과 join을 이용하여 공백을 모두 없엔 문자열 'PythonandWorldHello'을 만드시오."
   ]
  },
  {
   "cell_type": "code",
   "execution_count": 19,
   "metadata": {},
   "outputs": [
    {
     "name": "stdout",
     "output_type": "stream",
     "text": [
      "Python and World Hello\n",
      "PythonandWorldHello\n"
     ]
    }
   ],
   "source": [
    "S = 'Hello World and Python'\n",
    "s = S[16:] + S[11:16] + S[6:11] + S[5:6] + S[:5] #슬라이싱을 통하여 'Python and World Hello'문자열을 만든다.\n",
    "print(s) #출력\n",
    "t = s.split() #공백단위로 나누어 리스트를 만든다.\n",
    "a = ''.join(t) #a문자열에 공백없이 list를 이어붙인다.\n",
    "print(a)"
   ]
  },
  {
   "cell_type": "markdown",
   "metadata": {},
   "source": [
    "### 3.다음 코드를 보고 물음에 답하시오."
   ]
  },
  {
   "cell_type": "code",
   "execution_count": 21,
   "metadata": {},
   "outputs": [
    {
     "name": "stdout",
     "output_type": "stream",
     "text": [
      "[1, 2, 3, 1, 2, 3, 1, 2, 3]\n",
      "[[1, 2, 3], [1, 2, 3], [1, 2, 3]]\n",
      "[1, 2, 3, 1, 2, 3, 1, 2, 3]\n",
      "[[0, 2, 3], [0, 2, 3], [0, 2, 3]]\n"
     ]
    }
   ],
   "source": [
    "a = [1, 2, 3]\n",
    "b = a * 3\n",
    "c = [a] * 3\n",
    "print(b)\n",
    "print(c)\n",
    "a[0]=0\n",
    "print(b)\n",
    "print(c)"
   ]
  },
  {
   "cell_type": "markdown",
   "metadata": {},
   "source": [
    "b는 리스트a의 원소들을 3번 반복하는 리스트이고. b는 리스트 a를 세번 반복한 리스트이다.\n",
    "\n",
    "b는 값만 복사하였기에 a가 바뀌어도 바뀌지 않았고 c는 주소까지 복사하여서 a가 바뀌면 c도 바뀐다."
   ]
  },
  {
   "cell_type": "markdown",
   "metadata": {},
   "source": [
    "### 4.다음 문자열을 ':'을 기준으로 분리하여 리스트로 만들고 각 문자열의 좌우 공백을 제거하시오 (즉, 문자열 S에서 l을 만들어라)"
   ]
  },
  {
   "cell_type": "code",
   "execution_count": 31,
   "metadata": {},
   "outputs": [
    {
     "name": "stdout",
     "output_type": "stream",
     "text": [
      "['first star', 'second star', 'third star']\n"
     ]
    }
   ],
   "source": [
    "s = '  first star   :   second star   :    third star  '\n",
    "l= s.split(':') #:단위로 문자열을 나눠 리스트에 넣는다.\n",
    "for i in range(0,3):\n",
    "    l[i]=l[i].strip() #리스트의 원소 각각 공백을 제거한다.\n",
    "print(l)"
   ]
  },
  {
   "cell_type": "code",
   "execution_count": 37,
   "metadata": {},
   "outputs": [
    {
     "name": "stdout",
     "output_type": "stream",
     "text": [
      "['first star', 'second star', 'third star']\n"
     ]
    }
   ],
   "source": [
    "s = '  first star   :   second star   :    third star  '\n",
    "l= s.split(':') #:단위로 문자열을 나눠 리스트에 넣는다.\n",
    "l=[l[i].strip() for i in range(0,3)] #리스트 내포하여 각 원소의 공백을 제거한다.\n",
    "print(l)"
   ]
  },
  {
   "cell_type": "markdown",
   "metadata": {},
   "source": [
    "split을 이용하여 : 단위로 나누어 리스트에 저장한 후에 for문과 리스트내포로 각 원소들의 공백을 제거(strip)하여 출력을 한다."
   ]
  },
  {
   "cell_type": "markdown",
   "metadata": {},
   "source": [
    "### 5.다음과 같이 0보다 큰 정수 리스트 변수 list를 인자로 받는 함수 addall(list)와 addallodd(list)를 for ~ in 리터널과 리스트 내포 방식으로 각각 제시하시오."
   ]
  },
  {
   "cell_type": "code",
   "execution_count": 34,
   "metadata": {},
   "outputs": [
    {
     "name": "stdout",
     "output_type": "stream",
     "text": [
      "45\n",
      "45\n"
     ]
    }
   ],
   "source": [
    "lst = [1,2,3,4,5,6,7,8,9]\n",
    "\n",
    "def addall1(lst):\n",
    "    a=0\n",
    "    for i in range(len(lst)):\n",
    "        a=a+lst[i] #lst의 길이만큼 리스트의 원소들을 a에 더해준다.\n",
    "    return a\n",
    "\n",
    "def addall2(lst):\n",
    "    return sum([i for i in lst],0) #내장함수 sum으로 각 원소들을 모두 더해준다.\n",
    "\n",
    "print(addall1(lst))\n",
    "print(addall2(lst))"
   ]
  },
  {
   "cell_type": "code",
   "execution_count": 35,
   "metadata": {},
   "outputs": [
    {
     "name": "stdout",
     "output_type": "stream",
     "text": [
      "25\n",
      "25\n"
     ]
    }
   ],
   "source": [
    "lst = [1,2,3,4,5,6,7,8,9]\n",
    "\n",
    "def addallodd1(lst):\n",
    "    a=0\n",
    "    for i in range(len(lst)):\n",
    "        if(lst[i]%2==1): #리스트의 원소가 홀수이면\n",
    "            a=a+lst[i] #a에 더해준다.\n",
    "    return a\n",
    "\n",
    "def addallodd2(lst):\n",
    "    return sum([i for i in lst if (i % 2 == 1)],0) #원소가 홀수일 경우에 내장함수로 더한다.\n",
    "\n",
    "print(addallodd1(lst))\n",
    "print(addallodd2(lst))"
   ]
  },
  {
   "cell_type": "markdown",
   "metadata": {},
   "source": [
    "for문을 이용할 때는 단순 a를 정의하고 여기서 lst의 원소들을 a에 계속해서 더해주게 하도록 만들었다. 여기서 홀수만 더할 경우에는 lst의 원소가 2로 나누어 1이 나누어 떨어질 경우 더하도록 설정하였다. 리스트내포에서는 sum 내장함수를 이용하여 계속해서 더한 값을 반환한다. 홀수일 경우 마찬가지로 2로 나누어 1이 나누어 떨어질 경우를 위해 if문을 추가하였다."
   ]
  },
  {
   "cell_type": "markdown",
   "metadata": {},
   "source": [
    "### 6.다음 코드를 보고 물음에 답하시오."
   ]
  },
  {
   "cell_type": "code",
   "execution_count": 100,
   "metadata": {},
   "outputs": [
    {
     "name": "stdout",
     "output_type": "stream",
     "text": [
      "{'low': [1, 2, 3], 'high': [4, 5, 6]}\n",
      "{'low': [1, 2, 3], 'high': [4, 5, 6]}\n",
      "{'low': [1, 2, 3], 'high': [4, 5, 6]}\n",
      "\n",
      "{'low': [10, 20, 30], 'high': [4, 500, 6]}\n",
      "{'low': [10, 20, 30], 'high': [4, 500, 6]}\n",
      "{'low': [1, 2, 3], 'high': [4, 500, 6]}\n"
     ]
    }
   ],
   "source": [
    "L1 = [1, 2, 3]\n",
    "L2 = [4, 5, 6]\n",
    "d = {'low':L1, 'high':L2}\n",
    "e = d\n",
    "f = d.copy()\n",
    "print(d)\n",
    "print(e)\n",
    "print(f)\n",
    "print()\n",
    "d['low'] = [10, 20, 30]\n",
    "d['high'][1] = 500\n",
    "print(d)\n",
    "print(e)\n",
    "print(f)"
   ]
  },
  {
   "cell_type": "markdown",
   "metadata": {},
   "source": [
    "#### 1) 위 코드의 수행 결과 d와 e는 항상 같은 결과를 출력한다. 그 이유는 무엇인가?\n",
    "코드를 보면 e = d라고 되었는데 이는 레퍼런스 복사로서 둘 중 하나의 값만 바뀌더라고 주소가 같기에 다른 값도 바뀌게 된다.\n",
    "\n",
    "#### 2)위 코드의 수행 결과 마지막 f의 내용은 다음과 같다. 이 때 'high' 키의 값 내용 중 500이 출력된 이유와 'low' 키의 값 내용 중 [1, 2, 3]이 출력된 이유를 설명하시오 ([hint]: shallow copy 관점에서 설명하시오.)\n",
    "f의 경우는 .copy() 함수로 shallow copy한 것이라 상위 리스트의 값만 새로 생성하고 하위 리스트값의 경우는 참조를 한다.\n",
    "그렇기에 'low'의 키값의 상위 리스트가 바뀌었을때는 변화가 없었지만, 'high' 키 값의 하위리스트가 바뀌었을때는 참조를 하기에 값이 바뀐다."
   ]
  },
  {
   "cell_type": "markdown",
   "metadata": {},
   "source": [
    "### 7.사전 d = {'one':1, 'two':2, 'three':3, 'four':4, 'five':5}가 주어졌을 때 다음 요구사항에 맞는 코드를 제시하시오"
   ]
  },
  {
   "cell_type": "markdown",
   "metadata": {},
   "source": [
    "[참고]: d.keys(), d.values()를 통해 리스트를 얻어낸 후 리스트가 지니고 있는 sort(cmp=None, key=None, reverse=False)함수를 활용하시오.\n",
    "\n",
    "1) 키의 알파벳 오름차순 순서대로 튜플 (키, 값)을 차례대로 출력하시오.\n",
    "\n",
    "2) 키의 알파벳 내림차순 순서대로 튜플 (키, 값)을 차례대로 출력하시오.\n",
    "\n",
    "3) 값의 오름차순 순서대로 튜플 (키, 값)을 차례대로 출력하시오.\n",
    "\n",
    "4) 값의 내림차순 순서대로 튜플 (키, 값)을 차례대로 출력하시오."
   ]
  },
  {
   "cell_type": "code",
   "execution_count": 1,
   "metadata": {
    "scrolled": true
   },
   "outputs": [
    {
     "name": "stdout",
     "output_type": "stream",
     "text": [
      "[('five', 5), ('four', 4), ('one', 1), ('three', 3), ('two', 2)]\n",
      "[('two', 2), ('three', 3), ('one', 1), ('four', 4), ('five', 5)]\n",
      "[('one', 1), ('two', 2), ('three', 3), ('four', 4), ('five', 5)]\n",
      "[('five', 5), ('four', 4), ('three', 3), ('two', 2), ('one', 1)]\n"
     ]
    }
   ],
   "source": [
    "def cmp(a):\n",
    "    return a[1]\n",
    "\n",
    "d = {'one':1, 'two':2, 'three':3, 'four':4, 'five':5}\n",
    "lst = []\n",
    "for (i,j) in d.items():\n",
    "    lst.append((i,j))\n",
    "lst.sort()\n",
    "print(lst)\n",
    "lst.sort(reverse=True)\n",
    "print(lst)\n",
    "lst.sort(key=cmp)\n",
    "print(lst)\n",
    "lst.sort(key=cmp,reverse=True)\n",
    "print(lst)"
   ]
  },
  {
   "cell_type": "markdown",
   "metadata": {},
   "source": [
    "1)lst.sort()를 통하여 알파벳의 오름차순으로 출력을 한다.\n",
    "\n",
    "2)lst.sort(reverse=True)를 통하여 거꾸로 출력을 하여 알파벳의 내림차순으로 정렬한다.\n",
    "\n",
    "3)lst.sort(key=cmp)를 통하여 value값을 기준으로 오름차순으로 출력을 한다.\n",
    "\n",
    "4)lst.sort(key=cmp,reverse=True)를 통하여 value값을 기준으로 내림차순으로 출력을 한다."
   ]
  },
  {
   "cell_type": "markdown",
   "metadata": {},
   "source": [
    "# # [ACM-ICPC 문제 1673번]"
   ]
  },
  {
   "cell_type": "code",
   "execution_count": null,
   "metadata": {},
   "outputs": [
    {
     "name": "stdout",
     "output_type": "stream",
     "text": [
      "100 5\n",
      "124\n"
     ]
    }
   ],
   "source": [
    "while True :\n",
    "    try :\n",
    "        n, k = input().split() #n과 k의 값을 받는다.\n",
    "        n=int(n)\n",
    "        k=int(k) #두 값을 정수형으로 바꾼다.\n",
    "        cnt=n #cnt에 n을 넣어준다.\n",
    "        while n >= k : #n이 k이상일 동안 반복\n",
    "            a=int(n/k) #a는 n을 k로 나눈 몫\n",
    "            b=n%k #b는 그 나머지 값\n",
    "            cnt=cnt+a #cnt에 몫을 더해준다.\n",
    "            n=a+b #n을 a+b의 값으로 재정의한다.\n",
    "        print(cnt)\n",
    "    except EOFError:\n",
    "        break"
   ]
  },
  {
   "cell_type": "markdown",
   "metadata": {},
   "source": [
    "n과 k의 값을 받고 정수형으로 바꾼다. 처음에 쓴 쿠폰 개수는 n과 똑같으므로 cnt에 우선 n을 넣어준다. 이후 치킨 k마리당 쿠폰 1개를 주므로 n에서 k를 나누어 처음 먹고난 이후에 받는 쿠폰 수를 받는다. 쿠폰을 바꾸고 난 나머지 횟수를 b에 저장하고 cnt에는 a를 더한다. n을 치킨먹은 횟수 a와 이전에 쿠폰으로 바꾸고 남은 나머지 횟수를 더하여 저장하고 n이 k이상일 때까지 이 함수를 반복하고 출력한다."
   ]
  },
  {
   "cell_type": "markdown",
   "metadata": {},
   "source": [
    "![!](https://github.com/2015136011/Assignment/blob/master/%EB%A7%88%EC%9E%90%EB%94%B0%EB%A6%AC!.PNG?raw=true)"
   ]
  },
  {
   "cell_type": "markdown",
   "metadata": {},
   "source": [
    "# Incremental Project 문제"
   ]
  },
  {
   "cell_type": "markdown",
   "metadata": {},
   "source": [
    "요구사항 1. CSS와 Javascript 내용도 모두 제거하시오 (이전 숙제에서 이미 제외하였다면 본 요구사항 무시)"
   ]
  },
  {
   "cell_type": "code",
   "execution_count": 55,
   "metadata": {},
   "outputs": [],
   "source": [
    "import requests\n",
    "\n",
    "req = requests.get('https://cse.koreatech.ac.kr/')\n",
    "\n",
    "source = req.text #컴공홈페이지의 소스를 받아온다."
   ]
  },
  {
   "cell_type": "code",
   "execution_count": 56,
   "metadata": {},
   "outputs": [
    {
     "name": "stdout",
     "output_type": "stream",
     "text": [
      "컴퓨터공학부\n",
      "Schoolfun\n",
      "-\n",
      "Study\n",
      "and\n",
      "Fun\n",
      "-->\n",
      "로그인\n",
      "로그인\n",
      "아이디\n",
      "비밀번호\n",
      "로그인\n",
      "유지\n",
      "브라우저를\n",
      "닫더라도\n",
      "로그인이\n",
      "계속\n",
      "유지될\n",
      "수\n",
      "있습니다.\n",
      "로그인\n",
      "유지\n",
      "기능을\n",
      "사용할\n",
      "경우\n",
      "다음\n",
      "접속부터는\n",
      "로그인할\n",
      "필요가\n",
      "없습니다.\n",
      "단,\n",
      "게임방,\n",
      "학교\n",
      "등\n",
      "공공장소에서\n",
      "이용\n",
      "시\n",
      "개인정보가\n",
      "유출될\n",
      "수\n",
      "있으니\n",
      "꼭\n",
      "로그아웃을\n",
      "해주세요.\n",
      "회원가입\n",
      "ID/PW\n",
      "찾기\n",
      "IT\n",
      "교육의\n",
      "글로벌\n",
      "메카!\n",
      "한국기술교육대학교\n",
      "컴퓨터공학부\n",
      "Close\n",
      "소개\n",
      "구성원소개\n",
      "학사안내\n",
      "입학\n",
      "학부\n",
      "대학원\n",
      "학부광장\n",
      "자료실\n",
      "대학원\n",
      "공학교육인증\n",
      "학부서비스\n",
      "Registration\n",
      "컴퓨터공학부\n",
      "School\n",
      "of\n",
      "Computer\n",
      "Science\n",
      "and\n",
      "Engineering\n",
      "IT\n",
      "융합소프트웨어\n",
      "인력양성사업\n",
      "CK\n",
      "(Creative\n",
      "Korea)-I\n",
      "교육역량강화사업\n",
      "온라인\n",
      "컨텐츠\n",
      "Online\n",
      "Contents\n",
      "for\n",
      "Education\n",
      "Capability\n",
      "Empowerment\n",
      "IT\n",
      "교육의\n",
      "글로벌\n",
      "메카\n",
      "한국기술교육대학교\n",
      "컴퓨터공학부\n",
      "홈페이지에\n",
      "오신\n",
      "것을\n",
      "환영합니다!\n",
      "IT\n",
      "융합소프트웨어\n",
      "인력양성사업\n",
      "글로벌\n",
      "수준의\n",
      "IT전문인력\n",
      "양성\n",
      "IT융합분야에\n",
      "대한\n",
      "국제적인\n",
      "경쟁력\n",
      "고취\n",
      "바로가기\n",
      "교육역량강화사업\n",
      "컨텐츠\n",
      "교육역량강화사업\n",
      "온라인\n",
      "컨텐츠를\n",
      "소개합니다.\n",
      "바로가기\n",
      "공지사항\n",
      "AR/VR분야\n",
      "Capston\n",
      "Design\n",
      "지원\n",
      "계획\n",
      "~\n",
      "2018.11.30.(금...\n",
      "2018-10-29\n",
      "16:30\n",
      "16:30\n",
      "[특성화]\n",
      "2018학년도\n",
      "2학기\n",
      "운영\n",
      "강좌\n",
      "안내\n",
      "2018-10-29\n",
      "10:56\n",
      "10:56\n",
      "[특성화]\n",
      "2018\n",
      "IT융합\n",
      "아이디어\n",
      "경진대회\n",
      "안내(2학기\n",
      "...\n",
      "2018-10-25\n",
      "15:01\n",
      "15:01\n",
      "[특성화]\n",
      "2018\n",
      "IT융합\n",
      "AR\n",
      "Co-Bot\n",
      "Intensive\n",
      "캠프\n",
      "모집\n",
      "...\n",
      "2018-10-22\n",
      "15:30\n",
      "15:30\n",
      "[졸업작품]\n",
      "2018\n",
      "졸업작품\n",
      "산업체\n",
      "평가회\n",
      "결과에\n",
      "따른\n",
      "...\n",
      "2018-10-19\n",
      "14:09\n",
      "14:09\n",
      "자유게시판\n",
      "★문화의날\n",
      "행사\n",
      "공지★\n",
      "2018-10-19\n",
      "20:31\n",
      "20:31\n",
      "졸업작품전시회\n",
      "기간\n",
      "헤어/메이크업\n",
      "2018-10-07\n",
      "14:48\n",
      "14:48\n",
      "※모의토익비\n",
      "지원\n",
      "공지※\n",
      "2018-09-28\n",
      "09:37\n",
      "09:37\n",
      "ACM-ICPC\n",
      "예선\n",
      "신청기간이\n",
      "얼마\n",
      "안\n",
      "남았습니다!\n",
      "2018-09-13\n",
      "11:36\n",
      "11:36\n",
      "문화행사\n",
      "취소\n",
      "공지\n",
      "2018-09-10\n",
      "19:17\n",
      "19:17\n",
      "취업게시판\n",
      "㈜비즈테크파트너스\n",
      "(LG\n",
      "CNS자회사)\n",
      "신입\n",
      "개발직\n",
      "~2018...\n",
      "2018-10-25\n",
      "16:29\n",
      "16:29\n",
      "[국가보안기술연구소]\n",
      "정규직\n",
      "채용\n",
      "2018-10-04\n",
      "14:18\n",
      "14:18\n",
      "한글과컴퓨터그룹\n",
      "2018년\n",
      "하반기\n",
      "신입/경력\n",
      "공채\n",
      "~10.10\n",
      "2018-09-27\n",
      "13:13\n",
      "13:13\n",
      "[구인]천안\n",
      "충무병원\n",
      "전산실\n",
      "2018-09-18\n",
      "15:25\n",
      "15:25\n",
      "[정부교육]\n",
      "K-Shield\n",
      "주니어\n",
      "교육생\n",
      "모집(정보보호)\n",
      "~9.5\n",
      "2018-09-03\n",
      "07:53\n",
      "07:53\n",
      "Platum\n",
      "표철민\n",
      "대표\n",
      "“블록체인\n",
      "생태계\n",
      "조성위해\n",
      "불법만\n",
      "아니면...\n",
      "2018-10-29\n",
      "15:50\n",
      "15:50\n",
      "아산나눔재단,\n",
      "‘아산\n",
      "기업가정신\n",
      "교육\n",
      "포럼’\n",
      "개최\n",
      "2018-10-29\n",
      "09:43\n",
      "09:43\n",
      "[10월\n",
      "29일\n",
      "스타트업\n",
      "비즈니스\n",
      "동향]\n",
      "메쉬코리아,\n",
      "위드...\n",
      "2018-10-29\n",
      "09:36\n",
      "09:36\n",
      "블록체인\n",
      "기반\n",
      "기업용\n",
      "솔루션\n",
      "개발\n",
      "스타트업,\n",
      "‘블록오...\n",
      "2018-10-29\n",
      "08:37\n",
      "08:37\n",
      "[더팀스\n",
      "커리어피드]\n",
      "스타트업\n",
      "취업의\n",
      "고수가\n",
      "되는\n",
      "방법\n",
      "2018-10-29\n",
      "08:36\n",
      "08:36\n",
      "전자신문\n",
      "[2018\n",
      "국정감사]화웨이\n",
      "\"5G\n",
      "장비\n",
      "보안\n",
      "검증\n",
      "수용,...\n",
      "2018-10-29\n",
      "18:41\n",
      "18:41\n",
      "[이슈분석]역차별\n",
      "해소,\n",
      "글로벌\n",
      "동향은\n",
      "2018-10-29\n",
      "17:00\n",
      "17:00\n",
      "SK텔레콤,\n",
      "중소기업과\n",
      "'5G\n",
      "모세혈관'\n",
      "고도화\n",
      "나선다\n",
      "2018-10-29\n",
      "17:00\n",
      "17:00\n",
      "SK브로드밴드,\n",
      "세계\n",
      "3번째\n",
      "'프로그래매틱'\n",
      "광고\n",
      "도입\n",
      "2018-10-29\n",
      "17:00\n",
      "17:00\n",
      "[이슈분석]글로벌ICT기업\n",
      "역차별\n",
      "해소,\n",
      "5대\n",
      "분야\n",
      "...\n",
      "2018-10-29\n",
      "17:00\n",
      "17:00\n",
      "TechCrunch\n",
      "AmazonSmile\n",
      "has\n",
      "raised\n",
      "$100\n",
      "million\n",
      "for\n",
      "charity\n",
      "2018-10-29\n",
      "23:07\n",
      "23:07\n",
      "Atlassian\n",
      "sells\n",
      "Jitsi,\n",
      "an\n",
      "open-source\n",
      "videocon...\n",
      "2018-10-29\n",
      "22:41\n",
      "22:41\n",
      "Here\n",
      "are\n",
      "the\n",
      "20\n",
      "games\n",
      "shipping\n",
      "with\n",
      "the\n",
      "PlaySt...\n",
      "2018-10-29\n",
      "22:08\n",
      "22:08\n",
      "DJI\n",
      "releases\n",
      "a\n",
      "modified\n",
      "Mavic\n",
      "2\n",
      "drone\n",
      "aimed\n",
      "at...\n",
      "2018-10-29\n",
      "22:00\n",
      "22:00\n",
      "Blue\n",
      "Apron\n",
      "gets\n",
      "a\n",
      "much-needed\n",
      "boost\n",
      "with\n",
      "Jet.c...\n",
      "2018-10-29\n",
      "21:57\n",
      "21:57\n",
      "Back\n",
      "to\n",
      "Top\n",
      "Leading\n",
      "Together\n",
      "for\n",
      "Brighter\n",
      "Future\n",
      "-->\n",
      "Quick\n",
      "Navigation\n",
      "한국기술교육대학교\n",
      "홈페이지\n",
      "한국기술교육대학교\n",
      "WEBMAIL\n",
      "한국기술교육대학교\n",
      "온라인\n",
      "평생교육원\n",
      "IT\n",
      "융합소프트웨어\n",
      "인력양성사업\n",
      "컴퓨터공학부\n",
      "교직원\n",
      "업무\n",
      "자료실\n",
      "컴퓨터공학부\n",
      "포트폴리오\n",
      "-->\n",
      "Campus\n",
      "Location\n",
      "Contact\n",
      "CSE\n",
      "충청남도\n",
      "천안시\n",
      "동남구\n",
      "병천면\n",
      "충절로\n",
      "1600\n",
      "한국기술교육대학교\n",
      "컴퓨터공학부\n",
      "학과사무실\n",
      "TEL\n",
      "(041)\n",
      "560\n",
      "1460\n",
      "~\n",
      "1461\n",
      "FAX\n",
      "(041)\n",
      "560\n",
      "1462\n",
      "Facebook\n",
      "Twitter\n",
      "Google\n",
      "Plus\n",
      "Linkedin\n",
      "-->\n",
      "(31253)\n",
      "충청남도\n",
      "천안시\n",
      "동남구\n",
      "병천면\n",
      "충절로\n",
      "1600\n",
      "(가전리,\n",
      "한국기술교육대학교)\n",
      "컴퓨터공학부\n",
      "Copyright\n",
      "©\n",
      "2015.\n",
      "All\n",
      "rights\n",
      "reserved\n",
      "\n",
      "\n",
      "총 단어의 개수는 468개입니다\n"
     ]
    }
   ],
   "source": [
    "#<script>제거\n",
    "k=source.split() #소스 문자열을 공백 단위로 나누어 리스트에 넣는다.\n",
    "j=0\n",
    "a=''\n",
    "while (j < len(k)):\n",
    "    if(k[j] == '<script>'): #리스트에 원소가 <script>일시에 </script>이전까지 모든 원소를 무시한다.\n",
    "        j=j+1\n",
    "        while(k[j] != '</script>'):\n",
    "            j=j+1\n",
    "        a=a+''\n",
    "        j=j+1\n",
    "    else: #원소가 <script>가 아닐시에 a문자열에 넣어준다.\n",
    "        a=a+k[j]+' '\n",
    "        j=j+1\n",
    "        \n",
    "#<style>제거 : <script>제거와 함수 동일\n",
    "r=a.split()\n",
    "i=0\n",
    "b=''\n",
    "while(i<len(r)):\n",
    "    if(r[i]=='<style>'):\n",
    "        i=i+1\n",
    "        while(r[i] != '</style>'):\n",
    "            i=i+1\n",
    "        b=b+''\n",
    "        i=i+1\n",
    "    else:\n",
    "        b=b+r[i]+' '\n",
    "        i=i+1\n",
    "        \n",
    "aa=\"\" #<>제외한 문자열을 넣어줄 a를 정의\n",
    "ii=0 #i를 0으로 정의\n",
    "while (ii < len(b)): #소스크기 만큼 반복하는 반복문\n",
    "    if(b[ii] == '<'): #요소가 <이 나올 경우\n",
    "        ii=ii+1 #우선 다음 요소로 넘어가서\n",
    "        while(b[ii] != '>'): #요소가 >이 나올때까지\n",
    "            ii=ii+1 #계속해서 다음 요소로 넘어간다.\n",
    "        aa=aa+' ' # >이 나와서 while문을 탈출하면 공백을 a문자열에 넣어준다.\n",
    "        ii=ii+1 # 다음 요소로 넘어감\n",
    "    else:\n",
    "        aa=aa+b[ii] # 요소가 <가 아닐 경우에는 a문자열에 넣어준다.\n",
    "        ii=ii+1 #다음 요소로 넘어감\n",
    "bb=aa.split() #공백 단위로 a의 문자열을 나누어 b에 넣어준다. (단어를 구분함)\n",
    "for jj in range(0,len(bb)): #b의 크기만큼\n",
    "    print(bb[jj],end='\\n') #단어들을 출력\n",
    "print()\n",
    "print()\n",
    "print(\"총 단어의 개수는 {0}개입니다\".format(len(bb))) #단어개수 출력"
   ]
  },
  {
   "cell_type": "markdown",
   "metadata": {},
   "source": [
    "이전에 괄호 사이에 값들을 모두 지우는과 동일한 방식으로 대신에 리스트로 바꾸어 script와 /script 또 style과 /style 사이의 원소들을 제외한 원소들을 문자열로 넣었다. 이후 요구사항들은 시간이 촉박해서 못했습니다.."
   ]
  },
  {
   "cell_type": "markdown",
   "metadata": {},
   "source": [
    "# 소감"
   ]
  },
  {
   "cell_type": "markdown",
   "metadata": {},
   "source": [
    "시간을 조금 더 여유롭게 가져서 풀면은 분명히 할 수 있을 것 같았지만 시험을 보는 주에 과제가 나와버려서 과제에 집중하기에는 시간이 너무 촉박하였습니다. 그래서 마지막 문제에 요구사항을 하나밖에 충족시키지 못했습니다. 마지막문제는 제출 이후 이전 과제 전까지 충족시켜서 다음 과제에 진행을 하는데 차질이 없도록 하겠습니다. 감사합니다. "
   ]
  }
 ],
 "metadata": {
  "kernelspec": {
   "display_name": "Python 3",
   "language": "python",
   "name": "python3"
  },
  "language_info": {
   "codemirror_mode": {
    "name": "ipython",
    "version": 3
   },
   "file_extension": ".py",
   "mimetype": "text/x-python",
   "name": "python",
   "nbconvert_exporter": "python",
   "pygments_lexer": "ipython3",
   "version": "3.6.5"
  }
 },
 "nbformat": 4,
 "nbformat_minor": 2
}
